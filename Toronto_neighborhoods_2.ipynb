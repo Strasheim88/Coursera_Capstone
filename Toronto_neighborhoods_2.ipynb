{
 "cells": [
  {
   "cell_type": "markdown",
   "id": "invalid-grammar",
   "metadata": {},
   "source": [
    "# Segmenting and Clustering Neighborhoods in Toronto"
   ]
  },
  {
   "cell_type": "markdown",
   "id": "hispanic-aquarium",
   "metadata": {},
   "source": [
    "## Part 1 - Extract neighborhoods from wikipedia page"
   ]
  },
  {
   "cell_type": "markdown",
   "id": "wooden-riverside",
   "metadata": {},
   "source": [
    "#### Import packages"
   ]
  },
  {
   "cell_type": "code",
   "execution_count": 1,
   "id": "popular-parallel",
   "metadata": {},
   "outputs": [],
   "source": [
    "import requests\n",
    "from bs4 import BeautifulSoup\n",
    "import pandas as pd\n",
    "import urllib\n",
    "import time\n",
    "import folium\n",
    "import re"
   ]
  },
  {
   "cell_type": "markdown",
   "id": "injured-presentation",
   "metadata": {},
   "source": [
    "#### Get webpage information and create soup"
   ]
  },
  {
   "cell_type": "code",
   "execution_count": 2,
   "id": "boring-verification",
   "metadata": {},
   "outputs": [],
   "source": [
    "url = 'https://en.wikipedia.org/w/index.php?title=List_of_postal_codes_of_Canada:_M&oldid=945633050.'\n",
    "page = requests.get(url)\n",
    "soup = BeautifulSoup(page.text,'html.parser')"
   ]
  },
  {
   "cell_type": "markdown",
   "id": "federal-ready",
   "metadata": {},
   "source": [
    "#### Extract table information and create dataframe"
   ]
  },
  {
   "cell_type": "code",
   "execution_count": 3,
   "id": "sixth-celebrity",
   "metadata": {},
   "outputs": [],
   "source": [
    "table_contents=[]\n",
    "table=soup.find('table')\n",
    "\n",
    "# loop through table rows to obtain values\n",
    "for row in table.findAll('tr'):\n",
    "    cell = {}\n",
    "    try:\n",
    "        c = row.findAll('td')\n",
    "        cell['PostalCode'] = c[0].get_text()\n",
    "        cell['Borough'] = c[1].get_text()\n",
    "        cell['Neighborhood'] = c[2].get_text().replace('\\n', '')\n",
    "        table_contents.append(cell)\n",
    "    except:\n",
    "        pass\n",
    "    \n",
    "# create a dataframe containing extracted text values\n",
    "df=pd.DataFrame(table_contents)"
   ]
  },
  {
   "cell_type": "markdown",
   "id": "early-facing",
   "metadata": {},
   "source": [
    "#### Clean data and combine rows per postal code"
   ]
  },
  {
   "cell_type": "code",
   "execution_count": 4,
   "id": "abroad-strand",
   "metadata": {},
   "outputs": [],
   "source": [
    "# update the names of some boroughs\n",
    "df['Borough']=df['Borough'].replace({'Downtown TorontoStn A PO Boxes25 The Esplanade':'Downtown Toronto Stn A',\n",
    "                                             'East TorontoBusiness reply mail Processing Centre969 Eastern':'East Toronto Business',\n",
    "                                             'EtobicokeNorthwest':'Etobicoke Northwest','East YorkEast Toronto':'East York/East Toronto',\n",
    "                                             'MississaugaCanada Post Gateway Processing Centre':'Mississauga'})\n",
    "# remove all rows where borough equals 'Not assigned'\n",
    "df = df[df['Borough'] != 'Not assigned']\n",
    "# combine rows into one where the postal code is the same, with a comma between neigborhoods\n",
    "df = pd.DataFrame(df.groupby(['PostalCode', 'Borough'])['Neighborhood'].apply(lambda x: \"%s\" % ', '.join(x))).reset_index()"
   ]
  },
  {
   "cell_type": "code",
   "execution_count": 5,
   "id": "reduced-favorite",
   "metadata": {},
   "outputs": [
    {
     "data": {
      "text/html": [
       "<div>\n",
       "<style scoped>\n",
       "    .dataframe tbody tr th:only-of-type {\n",
       "        vertical-align: middle;\n",
       "    }\n",
       "\n",
       "    .dataframe tbody tr th {\n",
       "        vertical-align: top;\n",
       "    }\n",
       "\n",
       "    .dataframe thead th {\n",
       "        text-align: right;\n",
       "    }\n",
       "</style>\n",
       "<table border=\"1\" class=\"dataframe\">\n",
       "  <thead>\n",
       "    <tr style=\"text-align: right;\">\n",
       "      <th></th>\n",
       "      <th>PostalCode</th>\n",
       "      <th>Borough</th>\n",
       "      <th>Neighborhood</th>\n",
       "    </tr>\n",
       "  </thead>\n",
       "  <tbody>\n",
       "  </tbody>\n",
       "</table>\n",
       "</div>"
      ],
      "text/plain": [
       "Empty DataFrame\n",
       "Columns: [PostalCode, Borough, Neighborhood]\n",
       "Index: []"
      ]
     },
     "execution_count": 5,
     "metadata": {},
     "output_type": "execute_result"
    }
   ],
   "source": [
    "# check for unassigned neighborhoods\n",
    "df[df['Neighborhood'] == 'Not assigned']"
   ]
  },
  {
   "cell_type": "markdown",
   "id": "continued-infection",
   "metadata": {},
   "source": [
    "There are no neighborhoods equal to 'Not assigned'"
   ]
  },
  {
   "cell_type": "markdown",
   "id": "emotional-folder",
   "metadata": {},
   "source": [
    "#### Check shape of final table"
   ]
  },
  {
   "cell_type": "code",
   "execution_count": 85,
   "id": "equal-output",
   "metadata": {},
   "outputs": [
    {
     "data": {
      "text/plain": [
       "(103, 3)"
      ]
     },
     "execution_count": 85,
     "metadata": {},
     "output_type": "execute_result"
    }
   ],
   "source": [
    "df.shape"
   ]
  },
  {
   "cell_type": "markdown",
   "id": "lesser-slovakia",
   "metadata": {},
   "source": [
    "## Part 2 - Geocoding neigborhoods"
   ]
  },
  {
   "cell_type": "markdown",
   "id": "associate-islam",
   "metadata": {},
   "source": [
    "#### Geocode neighborhoods using Google API"
   ]
  },
  {
   "cell_type": "code",
   "execution_count": null,
   "id": "small-award",
   "metadata": {},
   "outputs": [],
   "source": [
    "#pip install geocoder"
   ]
  },
  {
   "cell_type": "code",
   "execution_count": null,
   "id": "rough-reduction",
   "metadata": {},
   "outputs": [],
   "source": [
    "import geocoder # import geocoder\n",
    "\n",
    "latitude = []\n",
    "longitude = []\n",
    "\n",
    "for l in df['PostalCode']:\n",
    "\n",
    "    # initialize your variable to None\n",
    "    lat_lng_coords = None\n",
    "\n",
    "    # loop until you get the coordinates\n",
    "    while(lat_lng_coords is None):\n",
    "        g = geocoder.google('{}, Toronto, Ontario'.format(l))\n",
    "        lat_lng_coords = g.latlng\n",
    "\n",
    "    latitude.append(lat_lng_coords[0])\n",
    "    longitude.append(lat_lng_coords[1])"
   ]
  },
  {
   "cell_type": "markdown",
   "id": "average-trigger",
   "metadata": {},
   "source": [
    "This geocoding did not work, hanged. Decision was made to rather use CSV file."
   ]
  },
  {
   "cell_type": "code",
   "execution_count": 6,
   "id": "beginning-zealand",
   "metadata": {},
   "outputs": [],
   "source": [
    "data_coord = pd.read_csv('Geospatial_Coordinates.csv')"
   ]
  },
  {
   "cell_type": "code",
   "execution_count": 10,
   "id": "forward-bumper",
   "metadata": {},
   "outputs": [],
   "source": [
    "df = pd.merge(df, data_coord, how='left', left_on='PostalCode', right_on='Postal Code').drop('Postal Code', axis=1)"
   ]
  }
 ],
 "metadata": {
  "kernelspec": {
   "display_name": "Python 3",
   "language": "python",
   "name": "python3"
  },
  "language_info": {
   "codemirror_mode": {
    "name": "ipython",
    "version": 3
   },
   "file_extension": ".py",
   "mimetype": "text/x-python",
   "name": "python",
   "nbconvert_exporter": "python",
   "pygments_lexer": "ipython3",
   "version": "3.8.3"
  }
 },
 "nbformat": 4,
 "nbformat_minor": 5
}
