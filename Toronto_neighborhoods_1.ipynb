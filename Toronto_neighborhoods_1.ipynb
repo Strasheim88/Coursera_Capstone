{
 "cells": [
  {
   "cell_type": "markdown",
   "id": "super-leeds",
   "metadata": {},
   "source": [
    "# Segmenting and Clustering Neighborhoods in Toronto"
   ]
  },
  {
   "cell_type": "markdown",
   "id": "statistical-carbon",
   "metadata": {},
   "source": [
    "## Part 1 - Extract neighborhoods from wikipedia page"
   ]
  },
  {
   "cell_type": "markdown",
   "id": "eleven-sympathy",
   "metadata": {},
   "source": [
    "#### Import packages"
   ]
  },
  {
   "cell_type": "code",
   "execution_count": 1,
   "id": "relevant-adoption",
   "metadata": {},
   "outputs": [],
   "source": [
    "import requests\n",
    "from bs4 import BeautifulSoup\n",
    "import pandas as pd\n",
    "import urllib\n",
    "import time\n",
    "import folium\n",
    "import re"
   ]
  },
  {
   "cell_type": "markdown",
   "id": "existing-channel",
   "metadata": {},
   "source": [
    "#### Get webpage information and create soup"
   ]
  },
  {
   "cell_type": "code",
   "execution_count": 2,
   "id": "continuing-polish",
   "metadata": {},
   "outputs": [],
   "source": [
    "url = 'https://en.wikipedia.org/w/index.php?title=List_of_postal_codes_of_Canada:_M&oldid=945633050.'\n",
    "page = requests.get(url)\n",
    "soup = BeautifulSoup(page.text,'html.parser')"
   ]
  },
  {
   "cell_type": "markdown",
   "id": "pharmaceutical-problem",
   "metadata": {},
   "source": [
    "#### Extract table information and create dataframe"
   ]
  },
  {
   "cell_type": "code",
   "execution_count": 70,
   "id": "martial-tribune",
   "metadata": {},
   "outputs": [],
   "source": [
    "table_contents=[]\n",
    "table=soup.find('table')\n",
    "\n",
    "# loop through table rows to obtain values\n",
    "for row in table.findAll('tr'):\n",
    "    cell = {}\n",
    "    try:\n",
    "        c = row.findAll('td')\n",
    "        cell['PostalCode'] = c[0].get_text()\n",
    "        cell['Borough'] = c[1].get_text()\n",
    "        cell['Neighborhood'] = c[2].get_text().replace('\\n', '')\n",
    "        table_contents.append(cell)\n",
    "    except:\n",
    "        pass\n",
    "    \n",
    "# create a dataframe containing extracted text values\n",
    "df=pd.DataFrame(table_contents)"
   ]
  },
  {
   "cell_type": "markdown",
   "id": "confused-collaboration",
   "metadata": {},
   "source": [
    "#### Clean data and combine rows per postal code"
   ]
  },
  {
   "cell_type": "code",
   "execution_count": 70,
   "id": "funny-tyler",
   "metadata": {},
   "outputs": [],
   "source": [
    "# update the names of some boroughs\n",
    "df['Borough']=df['Borough'].replace({'Downtown TorontoStn A PO Boxes25 The Esplanade':'Downtown Toronto Stn A',\n",
    "                                             'East TorontoBusiness reply mail Processing Centre969 Eastern':'East Toronto Business',\n",
    "                                             'EtobicokeNorthwest':'Etobicoke Northwest','East YorkEast Toronto':'East York/East Toronto',\n",
    "                                             'MississaugaCanada Post Gateway Processing Centre':'Mississauga'})\n",
    "# remove all rows where borough equals 'Not assigned'\n",
    "df = df[df['Borough'] != 'Not assigned']\n",
    "# combine rows into one where the postal code is the same, with a comma between neigborhoods\n",
    "df = pd.DataFrame(df.groupby(['PostalCode', 'Borough'])['Neighborhood'].apply(lambda x: \"%s\" % ', '.join(x))).reset_index()"
   ]
  },
  {
   "cell_type": "code",
   "execution_count": 72,
   "id": "reserved-dominican",
   "metadata": {},
   "outputs": [
    {
     "data": {
      "text/html": [
       "<div>\n",
       "<style scoped>\n",
       "    .dataframe tbody tr th:only-of-type {\n",
       "        vertical-align: middle;\n",
       "    }\n",
       "\n",
       "    .dataframe tbody tr th {\n",
       "        vertical-align: top;\n",
       "    }\n",
       "\n",
       "    .dataframe thead th {\n",
       "        text-align: right;\n",
       "    }\n",
       "</style>\n",
       "<table border=\"1\" class=\"dataframe\">\n",
       "  <thead>\n",
       "    <tr style=\"text-align: right;\">\n",
       "      <th></th>\n",
       "      <th>PostalCode</th>\n",
       "      <th>Borough</th>\n",
       "      <th>Neighborhood</th>\n",
       "    </tr>\n",
       "  </thead>\n",
       "  <tbody>\n",
       "  </tbody>\n",
       "</table>\n",
       "</div>"
      ],
      "text/plain": [
       "Empty DataFrame\n",
       "Columns: [PostalCode, Borough, Neighborhood]\n",
       "Index: []"
      ]
     },
     "execution_count": 72,
     "metadata": {},
     "output_type": "execute_result"
    }
   ],
   "source": [
    "# check for unassigned neighborhoods\n",
    "df[df['Neighborhood'] == 'Not assigned']"
   ]
  },
  {
   "cell_type": "markdown",
   "id": "asian-david",
   "metadata": {},
   "source": [
    "There are no neighborhoods equal to 'Not assigned'"
   ]
  },
  {
   "cell_type": "markdown",
   "id": "sapphire-marriage",
   "metadata": {},
   "source": [
    "#### Check shape of final table"
   ]
  },
  {
   "cell_type": "code",
   "execution_count": 74,
   "id": "allied-barbados",
   "metadata": {},
   "outputs": [
    {
     "data": {
      "text/plain": [
       "(103, 3)"
      ]
     },
     "execution_count": 74,
     "metadata": {},
     "output_type": "execute_result"
    }
   ],
   "source": [
    "df.shape"
   ]
  }
 ],
 "metadata": {
  "kernelspec": {
   "display_name": "Python 3",
   "language": "python",
   "name": "python3"
  },
  "language_info": {
   "codemirror_mode": {
    "name": "ipython",
    "version": 3
   },
   "file_extension": ".py",
   "mimetype": "text/x-python",
   "name": "python",
   "nbconvert_exporter": "python",
   "pygments_lexer": "ipython3",
   "version": "3.8.3"
  }
 },
 "nbformat": 4,
 "nbformat_minor": 5
}
